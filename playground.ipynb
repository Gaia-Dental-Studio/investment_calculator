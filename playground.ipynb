{
 "cells": [
  {
   "cell_type": "code",
   "execution_count": 4,
   "metadata": {},
   "outputs": [],
   "source": [
    "import pandas as pd\n",
    "\n",
    "class InvestmentCalculator:\n",
    "    def __init__(self, monthly_saving, number_of_period, interest_rate, starting_amount=0):\n",
    "        self.monthly_saving = monthly_saving\n",
    "        self.number_of_period = number_of_period\n",
    "        self.interest_rate = interest_rate / 100  # convert to decimal\n",
    "        self.starting_amount = starting_amount  # new variable for starting amount\n",
    "        self.total_contribution = 0\n",
    "        self.total_return = 0\n",
    "        self.interest_return = 0\n",
    "        self.savings_breakdown = pd.DataFrame()  # DataFrame to hold the monthly breakdown\n",
    "    \n",
    "    def calculate_apy_return(self):\n",
    "        # Calculate monthly interest rate based on APY\n",
    "        monthly_rate = (1 + self.interest_rate) ** (1 / 12) - 1\n",
    "\n",
    "        # Initialize lists to hold the breakdown per month\n",
    "        deposits = []\n",
    "        interests = []\n",
    "        ending_balances = []\n",
    "\n",
    "        # Track the cumulative values\n",
    "        current_contribution = self.starting_amount  # Start with initial amount\n",
    "        current_balance = self.starting_amount  # The initial balance\n",
    "        current_interest = 0\n",
    "\n",
    "        # Calculate month-by-month savings\n",
    "        for month in range(1, self.number_of_period + 1):\n",
    "            # Calculate interest on the current balance\n",
    "            interest_earned = current_balance * monthly_rate\n",
    "\n",
    "            # Update balance with the new deposit and earned interest\n",
    "            current_balance += self.monthly_saving + interest_earned\n",
    "            current_contribution += self.monthly_saving  # Track only contributions\n",
    "            current_interest += interest_earned\n",
    "            \n",
    "            current_balance = round(current_balance, 2)  # Round to 2 decimal places\n",
    "            current_contribution = round(current_contribution, 2)\n",
    "            current_interest = round(current_interest, 2)\n",
    "\n",
    "            # Store values in lists\n",
    "            deposits.append(current_contribution)\n",
    "            interests.append(current_interest)\n",
    "            ending_balances.append(current_balance)\n",
    "            \n",
    "            \n",
    "        \n",
    "        # Calculate total return and interest return\n",
    "        self.total_contribution = current_contribution\n",
    "        self.total_return = current_balance\n",
    "        self.interest_return = current_interest\n",
    "\n",
    "        # Store the monthly breakdown in a DataFrame\n",
    "        self.savings_breakdown = pd.DataFrame({\n",
    "            \"Month\": range(1, self.number_of_period + 1),\n",
    "            \"Deposit\": deposits,\n",
    "            \"Interest\": interests,\n",
    "            \"Ending Balance\": ending_balances\n",
    "        })\n",
    "    \n",
    "    def get_summary(self):\n",
    "        return {\n",
    "            \"Total Return\": round(self.total_return, 2),\n",
    "            \"Total Contribution\": round(self.total_contribution, 2),\n",
    "            \"Interest Return\": round(self.interest_return, 2)\n",
    "        }\n",
    "    \n",
    "    def get_savings_breakdown(self):\n",
    "        return self.savings_breakdown\n",
    "\n",
    "# Example usage:\n",
    "calculator = InvestmentCalculator(monthly_saving=200, number_of_period=24, interest_rate=10, starting_amount=200)\n",
    "calculator.calculate_apy_return()\n",
    "summary = calculator.get_summary()\n",
    "savings_breakdown_df = calculator.get_savings_breakdown()\n"
   ]
  },
  {
   "cell_type": "code",
   "execution_count": 5,
   "metadata": {},
   "outputs": [
    {
     "data": {
      "text/plain": [
       "{'Total Return': 5509.0, 'Total Contribution': 5000, 'Interest Return': 509.0}"
      ]
     },
     "execution_count": 5,
     "metadata": {},
     "output_type": "execute_result"
    }
   ],
   "source": [
    "summary"
   ]
  },
  {
   "cell_type": "code",
   "execution_count": null,
   "metadata": {},
   "outputs": [],
   "source": []
  }
 ],
 "metadata": {
  "kernelspec": {
   "display_name": "Python 3",
   "language": "python",
   "name": "python3"
  },
  "language_info": {
   "codemirror_mode": {
    "name": "ipython",
    "version": 3
   },
   "file_extension": ".py",
   "mimetype": "text/x-python",
   "name": "python",
   "nbconvert_exporter": "python",
   "pygments_lexer": "ipython3",
   "version": "3.10.9"
  }
 },
 "nbformat": 4,
 "nbformat_minor": 2
}
